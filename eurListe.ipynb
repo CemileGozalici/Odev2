{
 "cells": [
  {
   "cell_type": "code",
   "execution_count": 16,
   "id": "cb00ae93",
   "metadata": {},
   "outputs": [
    {
     
     "data": {
      
      "text/plain": [
       
       "{'eur': {'aed': 4.349942,\n",
       "  'afn': 91.18631,\n",
       "  'all': 123.693638,\n",
       "  'amd': 598.419043,\n",
       "  'ang': 2.126507,\n",
       "  'aoa': 774.935607,\n",
       "  'ars': 95.093466,\n",
       "  'aud': 1.623333,\n",
       "  'awg': 2.131628,\n",
       "  'azn': 2.013204,\n",
       "  'bam': 1.946409,\n",
       "  'bbd': 2.392022,\n",
       "  'bch': 0.003664,\n",
       "  'bdt': 100.455801,\n",
       "  'bgn': 1.956698,\n",
       "  'bhd': 0.446507,\n",
       "  'bif': 2300.974036,\n",
       "  'bmd': 1.184238,\n",
       "  'bnd': 1.588239,\n",
       "  'bob': 8.168362,\n",
       "  'brl': 6.443319,\n",
       "  'bsd': 1.184665,\n",
       "  'btc': 6.4e-05,\n",
       "  'btn': 87.732185,\n",
       "  'bwp': 13.090221,\n",
       "  'byr': 3.022967,\n",
       "  'bzd': 2.387941,\n",
       "  'cad': 1.548196,\n",
       "  'cdf': 2330.57998,\n",
       "  'chf': 1.080925,\n",
       "  'clf': 0.031621,\n",
       "  'clp': 916.48163,\n",
       "  'cnh': 7.78618,\n",
       "  'cny': 7.79939,\n",
       "  'cop': 4319.566569,\n",
       "  'crc': 714.352252,\n",
       "  'cup': 1.184238,\n",
       "  'cve': 110.430174,\n",
       "  'czk': 26.316073,\n",
       "  'djf': 210.462741,\n",
       "  'dkk': 7.445137,\n",
       "  'dop': 69.100275,\n",
       "  'dzd': 152.174201,\n",
       "  'egp': 18.5184,\n",
       "  'etb': 44.941824,\n",
       "  'eth': 0.001943,\n",
       "  'eur': 1,\n",
       "  'fjd': 2.47186,\n",
       "  'gbp': 0.888794,\n",
       "  'gel': 3.925748,\n",
       "  'ghs': 6.898185,\n",
       "  'gmd': 61.284306,\n",
       "  'gnf': 11605.530391,\n",
       "  'gqe': 652.808124,\n",
       "  'gtq': 9.22863,\n",
       "  'gyd': 247.750836,\n",
       "  'hkd': 9.180507,\n",
       "  'hnl': 28.776978,\n",
       "  'hrk': 7.563372,\n",
       "  'htg': 75.967291,\n",
       "  'huf': 360.736596,\n",
       "  'idr': 16863.5462,\n",
       "  'ils': 3.969127,\n",
       "  'inr': 87.923439,\n",
       "  'iqd': 1409.242976,\n",
       "  'irr': 49862.332356,\n",
       "  'isk': 160.937916,\n",
       "  'jmd': 174.521479,\n",
       "  'jod': 0.839625,\n",
       "  'jpy': 123.878379,\n",
       "  'kes': 129.792462,\n",
       "  'kgs': 100.419575,\n",
       "  'khr': 4796.16307,\n",
       "  'kmf': 493.767949,\n",
       "  'kpw': 4.266809,\n",
       "  'krw': 1318.518519,\n",
       "  'kwd': 0.361666,\n",
       "  'kyd': 0.987205,\n",
       "  'kzt': 504.29831,\n",
       "  'lak': 10989.726737,\n",
       "  'lbp': 1796.83098,\n",
       "  'lkr': 219.518607,\n",
       "  'lrd': 185.777304,\n",
       "  'lsl': 18.272789,\n",
       "  'ltc': 0.013272,\n",
       "  'lyd': 1.598721,\n",
       "  'mad': 10.807354,\n",
       "  'mdl': 20.382438,\n",
       "  'mga': 4636.290967,\n",
       "  'mkd': 61.630494,\n",
       "  'mmk': 1547.778666,\n",
       "  'mnt': 3321.787015,\n",
       "  'mop': 9.459054,\n",
       "  'mru': 43.935222,\n",
       "  'mur': 47.251088,\n",
       "  'mvr': 18.237262,\n",
       "  'mwk': 905.941913,\n",
       "  'mxn': 23.81096,\n",
       "  'myr': 4.847677,\n",
       "  'mzm': 87.479646,\n",
       "  'mzn': 86.662522,\n",
       "  'nad': 18.272789,\n",
       "  'ngn': 450.602481,\n",
       "  'nio': 41.258845,\n",
       "  'nok': 10.688433,\n",
       "  'npr': 140.368772,\n",
       "  'nzd': 1.709252,\n",
       "  'omr': 0.455918,\n",
       "  'pab': 1.184665,\n",
       "  'pen': 4.269177,\n",
       "  'pgk': 4.180359,\n",
       "  'php': 57.311188,\n",
       "  'pkr': 190.603073,\n",
       "  'pln': 4.471019,\n",
       "  'pyg': 8333.760843,\n",
       "  'qar': 4.31181,\n",
       "  'ron': 4.87456,\n",
       "  'rsd': 117.553365,\n",
       "  'rub': 89.998875,\n",
       "  'rwf': 1169.434823,\n",
       "  'sar': 4.441089,\n",
       "  'sbd': 9.476329,\n",
       "  'scr': 24.620304,\n",
       "  'sdg': 65.547562,\n",
       "  'sek': 10.219617,\n",
       "  'sgd': 1.591509,\n",
       "  'shp': 0.883797,\n",
       "  'sll': 12455.221008,\n",
       "  'sos': 690.410634,\n",
       "  'srd': 16.761702,\n",
       "  'svc': 10.365825,\n",
       "  'syp': 1487.40267,\n",
       "  'szl': 18.272789,\n",
       "  'thb': 35.962341,\n",
       "  'tjs': 13.419439,\n",
       "  'tmt': 4.144832,\n",
       "  'tnd': 3.25547,\n",
       "  'top': 2.718418,\n",
       "  'try': 9.337034,\n",
       "  'ttd': 8.041177,\n",
       "  'twd': 33.697486,\n",
       "  'tzs': 2747.271812,\n",
       "  'uah': 33.625343,\n",
       "  'ugx': 4390.447938,\n",
       "  'usd': 1.184238,\n",
       "  'uyu': 13.813465,\n",
       "  'uzs': 3353.760825,\n",
       "  'vef': 924945.969151,\n",
       "  'vnd': 7472.736871,\n",
       "  'vuv': 129.993783,\n",
       "  'xaf': 649.305741,\n",
       "  'xcd': 3.200462,\n",
       "  'xof': 178.609324,\n",
       "  'xpf': 119.986973,\n",
       "  'yer': 80.712715,\n",
       "  'zar': 18.220683,\n",
       "  'zmw': 6.769693}}"
       
      ]
      
     },
     
     "execution_count": 16,
     "metadata": {},
     "output_type": "execute_result"
     
    }
    
   ],
   
   "source": [
    "import requests\n",
    "import pandas as pd\n",
    "response = requests.get(\"https://cdn.jsdelivr.net/gh/fawazahmed0/currency-api@1/2020-11-24/currencies/eur.json\").json()\n",
    "response"
    
   ]
   
  },
  
  {
   
   "cell_type": "code",
   "execution_count": 17,
   "id": "c647b1a5",
   "metadata": {},
   "outputs": [
    
    {
     
     "data": {
      
      "text/html": [
       
       "<div>\n",
       "<style scoped>\n",
       "    .dataframe tbody tr th:only-of-type {\n",
       "        vertical-align: middle;\n",
       "    }\n",
       "\n",
       "    .dataframe tbody tr th {\n",
       "        vertical-align: top;\n",
       "    }\n",
       "\n",
       "    .dataframe thead th {\n",
       "        text-align: right;\n",
       "    }\n",
       "</style>\n",
       "<table border=\"1\" class=\"dataframe\">\n",
       "  <thead>\n",
       "    <tr style=\"text-align: right;\">\n",
       "      <th></th>\n",
       "      <th>0</th>\n",
       "      <th>1</th>\n",
       "    </tr>\n",
       "  </thead>\n",
       "  <tbody>\n",
       "    <tr>\n",
       "      <th>0</th>\n",
       "      <td>aed</td>\n",
       "      <td>4.349942</td>\n",
       "    </tr>\n",
       "    <tr>\n",
       "      <th>1</th>\n",
       "      <td>afn</td>\n",
       "      <td>91.186310</td>\n",
       "    </tr>\n",
       "    <tr>\n",
       "      <th>2</th>\n",
       "      <td>all</td>\n",
       "      <td>123.693638</td>\n",
       "    </tr>\n",
       "    <tr>\n",
       "      <th>3</th>\n",
       "      <td>amd</td>\n",
       "      <td>598.419043</td>\n",
       "    </tr>\n",
       "    <tr>\n",
       "      <th>4</th>\n",
       "      <td>ang</td>\n",
       "      <td>2.126507</td>\n",
       "    </tr>\n",
       "    <tr>\n",
       "      <th>...</th>\n",
       "      <td>...</td>\n",
       "      <td>...</td>\n",
       "    </tr>\n",
       "    <tr>\n",
       "      <th>152</th>\n",
       "      <td>xof</td>\n",
       "      <td>178.609324</td>\n",
       "    </tr>\n",
       "    <tr>\n",
       "      <th>153</th>\n",
       "      <td>xpf</td>\n",
       "      <td>119.986973</td>\n",
       "    </tr>\n",
       "    <tr>\n",
       "      <th>154</th>\n",
       "      <td>yer</td>\n",
       "      <td>80.712715</td>\n",
       "    </tr>\n",
       "    <tr>\n",
       "      <th>155</th>\n",
       "      <td>zar</td>\n",
       "      <td>18.220683</td>\n",
       "    </tr>\n",
       "    <tr>\n",
       "      <th>156</th>\n",
       "      <td>zmw</td>\n",
       "      <td>6.769693</td>\n",
       "    </tr>\n",
       "  </tbody>\n",
       "</table>\n",
       "<p>157 rows × 2 columns</p>\n",
       "</div>"
      ],
      "text/plain": [
       "       0           1\n",
       "0    aed    4.349942\n",
       "1    afn   91.186310\n",
       "2    all  123.693638\n",
       "3    amd  598.419043\n",
       "4    ang    2.126507\n",
       "..   ...         ...\n",
       "152  xof  178.609324\n",
       "153  xpf  119.986973\n",
       "154  yer   80.712715\n",
       "155  zar   18.220683\n",
       "156  zmw    6.769693\n",
       "\n",
       "[157 rows x 2 columns]"
       
      ]
      
     },
     
     "execution_count": 17,
     "metadata": {},
     "output_type": "execute_result"
    }
    
   ],
   
   "source": [
    "df=pd.DataFrame(response['eur'].items())\n",
    "df"
    
   ]
   
  }
  
 ],
 
 "metadata": {
  
  "kernelspec": {
   
   "display_name": "Python 3 (ipykernel)",
   "language": "python",
   "name": "python3"
   
  },
  
  "language_info": {
   
   "codemirror_mode": {
    
    "name": "ipython",
    "version": 3
    
   },
   
   "file_extension": ".py",
   "mimetype": "text/x-python",
   "name": "python",
   "nbconvert_exporter": "python",
   "pygments_lexer": "ipython3",
   "version": "3.9.12"
   
  }
  
 },
 
 "nbformat": 4,
 "nbformat_minor": 5
 
}
